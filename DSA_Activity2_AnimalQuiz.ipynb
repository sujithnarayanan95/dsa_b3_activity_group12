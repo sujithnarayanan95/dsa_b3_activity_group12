{
 "cells": [
  {
   "cell_type": "markdown",
   "metadata": {},
   "source": [
    "# Activity 2 - 'Animal Quiz Master' Python Program"
   ]
  },
  {
   "cell_type": "markdown",
   "metadata": {},
   "source": [
    "* Create a that program asks the player some questions about animals.\n",
    "* The Player gets three chances to answer each question — you don’t want to make the quiz too difficult! \n",
    "* Each correct answer will score one point. \n",
    "* At the end of the quiz, the program reveals the player’s final score.\n",
    "* When comparing the player’s guess to the correct answer, it shouldn't matter if the player types capital letters or lowercase letters — all that matters is that the words are the same. It doesn’t matter if the player answers “bear’or “Bear’ — both will be recognized as correct.\n",
    "* Makes use of a function—a block of code with a name that performs the below specific tasks.\n",
    "     * Checking the correctness of the answer.\n",
    "     * Checking the number of attempts.\n",
    "     * Calculating the score.\n"
   ]
  },
  {
   "cell_type": "code",
   "execution_count": null,
   "metadata": {},
   "outputs": [],
   "source": []
  },
  {
   "cell_type": "code",
   "execution_count": 24,
   "metadata": {},
   "outputs": [],
   "source": [
    "#a predefined set of animal-based questions for the quiz \n",
    "#answers referred from wikipedia\n",
    "\n",
    "q_list = ['''\\nQ1. Which animal is known as \"Man's Best Friend\"?\\n''',\n",
    "          \"Q2. When a male donkey and a female horse breed, the resulting offspring is what animal?\\n\",\n",
    "         \"Q3. What is the tallest animal on Earth?\\n\",\n",
    "          \"Q4. What is a baby deer called?\\n\"]"
   ]
  },
  {
   "cell_type": "code",
   "execution_count": 2,
   "metadata": {},
   "outputs": [],
   "source": [
    "#predefined answers list for the questions in q_list\n",
    "\n",
    "ans_list = ['dog','mule','giraffe','fawn']"
   ]
  },
  {
   "cell_type": "code",
   "execution_count": 16,
   "metadata": {},
   "outputs": [],
   "source": []
  },
  {
   "cell_type": "code",
   "execution_count": 42,
   "metadata": {},
   "outputs": [
    {
     "name": "stdout",
     "output_type": "stream",
     "text": [
      "Enter your name: sujith\n",
      "\n",
      "Player Name is 'Sujith'.\n",
      "\n",
      "Q1. Which animal is known as \"Man's Best Friend\"?\n",
      "dog\n",
      "Correct Answer Sujith!\n",
      "Get ready for Next Question!\n",
      "\n",
      "Q2. When a male donkey and a female horse breed, the resulting offspring is what animal?\n",
      "horse\n",
      "Sorry, Sujith! Incorrect Answer!\n",
      "\n",
      "Try answering again!\n",
      "Q2. When a male donkey and a female horse breed, the resulting offspring is what animal?\n",
      "mule\n",
      "Correct Answer Sujith!\n",
      "Get ready for Next Question!\n",
      "\n",
      "Q3. What is the tallest animal on Earth?\n",
      "giraffe\n",
      "Correct Answer Sujith!\n",
      "Get ready for Next Question!\n",
      "\n",
      "Q4. What is a baby deer called?\n",
      "baby deer\n",
      "Sorry, Sujith! Incorrect Answer!\n",
      "\n",
      "Try answering again!\n",
      "Q4. What is a baby deer called?\n",
      "deer\n",
      "Sorry, Sujith! Incorrect Answer!\n",
      "\n",
      "Try answering again!\n",
      "Q4. What is a baby deer called?\n",
      "doe\n",
      "Sorry, Sujith! Incorrect Answer!\n",
      "\n",
      "Oops, Sujith! You don't have any chances left!\n",
      "\n",
      "The correct answer for this question is 'Fawn''.\n",
      "\n",
      "Quiz is finished. Sujith scored 3 point(s).\n"
     ]
    }
   ],
   "source": [
    "def animal_quiz():\n",
    "    '''Function for Animal Quiz'''\n",
    "    \n",
    "    #input the player name\n",
    "    name = input(\"Enter your name: \").title()\n",
    "    print(\"\\nPlayer Name is '{}'.\".format(name))\n",
    "    \n",
    "    #variable to handle player_score\n",
    "    player_score = 0\n",
    "    \n",
    "    #looping through number of questions\n",
    "    for q in range(0,4):\n",
    "        \n",
    "        #variable to store number of chances\n",
    "        chances = 0\n",
    "        \n",
    "        #while loop handles the answering\n",
    "        while True:\n",
    "            answer = input(q_list[q]).lower()\n",
    "            if answer == ans_list[q]:\n",
    "                print(\"Correct Answer {}!\".format(name))\n",
    "                player_score += 1\n",
    "                if q<3:\n",
    "                    print(\"Get ready for Next Question!\\n\")\n",
    "                \n",
    "                break\n",
    "        \n",
    "            else:\n",
    "                print(\"Sorry, {}! Incorrect Answer!\\n\".format(name))\n",
    "                chances += 1\n",
    "            \n",
    "                if chances < 3:\n",
    "                    print(\"Try answering again!\")\n",
    "                    continue \n",
    "            \n",
    "                elif chances >=3:\n",
    "                    print(\"Oops, {}! You don't have any chances left!\".format(name))\n",
    "                    print(\"\\nThe correct answer for this question is '{}''.\".format(ans_list[q].title()))\n",
    "                    break\n",
    "                \n",
    "                \n",
    "        if chances >=3:\n",
    "            break\n",
    "\n",
    "    print(\"\\nQuiz is finished. {} scored {} point(s).\".format(name,player_score))\n",
    "    \n",
    "animal_quiz()"
   ]
  },
  {
   "cell_type": "code",
   "execution_count": null,
   "metadata": {},
   "outputs": [],
   "source": []
  }
 ],
 "metadata": {
  "kernelspec": {
   "display_name": "Python 3",
   "language": "python",
   "name": "python3"
  },
  "language_info": {
   "codemirror_mode": {
    "name": "ipython",
    "version": 3
   },
   "file_extension": ".py",
   "mimetype": "text/x-python",
   "name": "python",
   "nbconvert_exporter": "python",
   "pygments_lexer": "ipython3",
   "version": "3.8.3"
  }
 },
 "nbformat": 4,
 "nbformat_minor": 4
}
