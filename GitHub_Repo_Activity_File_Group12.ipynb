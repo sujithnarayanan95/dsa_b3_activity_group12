{
 "cells": [
  {
   "cell_type": "markdown",
   "metadata": {
    "id": "4z_Z-K1tlrS7"
   },
   "source": [
    "## 1. Complete the following code to find the area of an equilateral triangle. Output should be as displayed"
   ]
  },
  {
   "cell_type": "code",
   "execution_count": 13,
   "metadata": {
    "id": "rP2qFD_SlrS_"
   },
   "outputs": [
    {
     "name": "stdout",
     "output_type": "stream",
     "text": [
      "Enter the side of the equilateral triangle: 3\n",
      "\n",
      "The area of the Equilateral Triangle with side 3.0 is 3.897.\n"
     ]
    }
   ],
   "source": [
    "import math\n",
    "\n",
    "side = float(input(\"Enter the side of the equilateral triangle: \"))\n",
    "\n",
    "#formula for area of eq triangle\n",
    "area = ((math.sqrt(3))/4)*pow(side,2)\n",
    "\n",
    "print(\"\\nThe area of the Equilateral Triangle with side {} is {}.\".format(side,round(area,3)))\n"
   ]
  },
  {
   "cell_type": "code",
   "execution_count": null,
   "metadata": {},
   "outputs": [],
   "source": []
  },
  {
   "cell_type": "code",
   "execution_count": null,
   "metadata": {},
   "outputs": [],
   "source": []
  },
  {
   "cell_type": "markdown",
   "metadata": {
    "id": "TjVKjIfclrTB"
   },
   "source": [
    "## 2. Write a program to count the number of each characters in a string"
   ]
  },
  {
   "cell_type": "code",
   "execution_count": 104,
   "metadata": {
    "id": "JY5seVUQlrTC"
   },
   "outputs": [
    {
     "name": "stdout",
     "output_type": "stream",
     "text": [
      "Enter a word: statistics\n",
      "\n",
      "The count of each unique character in the word 'statistics' are:\n",
      "a = 1\n",
      "c = 1\n",
      "i = 2\n",
      "s = 3\n",
      "t = 3\n"
     ]
    }
   ],
   "source": [
    "#frequency of character using for loop  \n",
    "\n",
    "charlist = []\n",
    "def charcount(string):\n",
    "   \n",
    "    for char in string:\n",
    "        charlist.append(char)\n",
    "\n",
    "    return charlist \n",
    "\n",
    "\n",
    "string = input(\"Enter a word: \")\n",
    "charcount(string)\n",
    "\n",
    "print(\"\\nThe count of each unique character in the word '{}' are:\".format(string))\n",
    "for i in sorted(set(charlist)):\n",
    "    print(i,\"=\",charlist.count(i))\n",
    "    \n"
   ]
  },
  {
   "cell_type": "code",
   "execution_count": null,
   "metadata": {},
   "outputs": [],
   "source": []
  },
  {
   "cell_type": "code",
   "execution_count": 3,
   "metadata": {},
   "outputs": [
    {
     "name": "stdout",
     "output_type": "stream",
     "text": [
      "Enter the word\n",
      "statistics\n",
      "Count the number of characters\n",
      " {'s': 3, 't': 3, 'a': 1, 'i': 2, 'c': 1}\n"
     ]
    }
   ],
   "source": [
    "#another method - code by Sidharth\n",
    "\n",
    "word=str(input('Enter the word\\n'))\n",
    "value={}\n",
    "for i in word:\n",
    "    if i in value:\n",
    "        value[i]+=1\n",
    "    else:\n",
    "        value[i]=1\n",
    "print('Count the number of characters\\n', str(value))\n"
   ]
  },
  {
   "cell_type": "code",
   "execution_count": 2,
   "metadata": {},
   "outputs": [
    {
     "name": "stdout",
     "output_type": "stream",
     "text": [
      "enter the string:statistics\n",
      "frequency of each character :\n",
      " {'a': 1, 's': 3, 't': 3, 'i': 2, 'c': 1}\n"
     ]
    }
   ],
   "source": [
    "#another method - code by Akshaya V\n",
    "strA=input(\"enter the string:\")\n",
    "res = {}\n",
    "res={n: strA.count(n) for n in set(strA)}\n",
    "print(\"frequency of each character :\\n\", res)"
   ]
  },
  {
   "cell_type": "code",
   "execution_count": null,
   "metadata": {},
   "outputs": [],
   "source": []
  },
  {
   "cell_type": "markdown",
   "metadata": {
    "id": "l3LCULfklrTD"
   },
   "source": [
    "## 3. Write a program to find the area and perimeter of a rectangle using functions"
   ]
  },
  {
   "cell_type": "code",
   "execution_count": 17,
   "metadata": {
    "id": "8haQD8edlrTD"
   },
   "outputs": [
    {
     "name": "stdout",
     "output_type": "stream",
     "text": [
      "Enter the length of the Rectangle: 3\n",
      "Enter the breadth/ width of the Rectangle: 2\n",
      "\n",
      "Area of the given Rectangle is 6.0.\n",
      "Perimeter of the given Rectangle is 10.0.\n"
     ]
    }
   ],
   "source": [
    "def area_peri():\n",
    "    l = float(input(\"Enter the length of the Rectangle: \"))\n",
    "    b = float(input(\"Enter the breadth/ width of the Rectangle: \"))\n",
    "    \n",
    "    #formula of area and perimeter \n",
    "    area = l*b\n",
    "    perimeter = 2*(l+b)\n",
    "    \n",
    "    return area, perimeter\n",
    "\n",
    "x,y=area_peri()\n",
    "\n",
    "print(\"\\nArea of the given Rectangle is {}.\".format(x))\n",
    "print(\"Perimeter of the given Rectangle is {}.\".format(y))"
   ]
  },
  {
   "cell_type": "code",
   "execution_count": null,
   "metadata": {},
   "outputs": [],
   "source": []
  },
  {
   "cell_type": "code",
   "execution_count": null,
   "metadata": {},
   "outputs": [],
   "source": []
  },
  {
   "cell_type": "markdown",
   "metadata": {
    "id": "JHK4ZdsflrTE"
   },
   "source": [
    "## 4. Write a program to print the fibonacci series till a specified number"
   ]
  },
  {
   "cell_type": "markdown",
   "metadata": {},
   "source": [
    "Finonacci Sequence: It has each number as the sum of the two preceding ones, starting from 0 and 1."
   ]
  },
  {
   "cell_type": "code",
   "execution_count": 82,
   "metadata": {
    "id": "LyBEj-4SlrTE"
   },
   "outputs": [
    {
     "name": "stdout",
     "output_type": "stream",
     "text": [
      "Enter the limit for the Fibonacci Sequence: 11\n",
      "Fibonacci sequence upto 11 are as follows:\n",
      "\n",
      "0\n",
      "1\n",
      "1\n",
      "2\n",
      "3\n",
      "5\n",
      "8\n"
     ]
    }
   ],
   "source": [
    "def fibo():\n",
    "    \n",
    "    #limiting number for the series\n",
    "    limit = int(input(\"Enter the limit for the Fibonacci Sequence: \"))\n",
    "    #for example, if limit is 7, series printed will be 0,1,1,2,3,5\n",
    "    \n",
    "    #first 2 terms of fib seq\n",
    "    t1, t2 = 0, 1\n",
    "    \n",
    "    #counter can be used to print first x terms of the series\n",
    "    count = 0\n",
    "    \n",
    "    #fib series is only for 0 and above numbers\n",
    "    if limit <= 0:\n",
    "        print(\"Enter a positive integer\")\n",
    "    \n",
    "    elif limit == 1:\n",
    "        print(\"Fibonacci sequence upto {} are as follows:\".format(limit))\n",
    "        print(t1)\n",
    "    \n",
    "              \n",
    "    else:\n",
    "        print(\"Fibonacci sequence upto {} are as follows:\\n\".format(limit))\n",
    "    \n",
    "    #printing series elements below limit\n",
    "    while t1 <= limit:\n",
    "        print(t1)\n",
    "        nxt = t1 + t2\n",
    "    \n",
    "        #new t1 and t2\n",
    "        t1 = t2\n",
    "        t2 = nxt\n",
    "        count += 1 \n",
    "        \n",
    "fibo()\n",
    "          \n",
    "    \n",
    "    "
   ]
  },
  {
   "cell_type": "code",
   "execution_count": 4,
   "metadata": {},
   "outputs": [
    {
     "name": "stdout",
     "output_type": "stream",
     "text": [
      "Enter the limit\n",
      "9\n",
      "fibonacci Series\n",
      "0 1 1 2 3 5 8 13 21 "
     ]
    }
   ],
   "source": [
    "#Fibonacci with Limit of terms - code by Sidharth\n",
    "\n",
    "def Fibonacci(num):\n",
    "           if num == 0:\n",
    "                      return 0\n",
    "           elif num == 1:\n",
    "                      return 1\n",
    "           else:\n",
    "                      return (Fibonacci(num-2)+Fibonacci(num-1))\n",
    "n = int(input('Enter the limit\\n'))\n",
    "print('fibonacci Series')\n",
    "for n in range(0,n):\n",
    "           print(Fibonacci(n),end=' ')"
   ]
  },
  {
   "cell_type": "code",
   "execution_count": 1,
   "metadata": {},
   "outputs": [
    {
     "name": "stdout",
     "output_type": "stream",
     "text": [
      "Enter the value of 'n': 10\n",
      "Fibonacci Series:  0 1 1 2 3 5 8 13 21 34 "
     ]
    }
   ],
   "source": [
    "#Fibonacci with Limit of terms - code by Shiffa\n",
    "n = int(input(\"Enter the value of 'n': \"))\n",
    "a = 0\n",
    "b = 1\n",
    "sum = 0\n",
    "count = 1\n",
    "print(\"Fibonacci Series: \", end = \" \")\n",
    "while(count <= n):\n",
    "  print(sum, end = \" \")\n",
    "  count += 1\n",
    "  a = b\n",
    "  b = sum\n",
    "  sum = a + b"
   ]
  },
  {
   "cell_type": "code",
   "execution_count": null,
   "metadata": {},
   "outputs": [],
   "source": []
  },
  {
   "cell_type": "code",
   "execution_count": null,
   "metadata": {},
   "outputs": [],
   "source": []
  },
  {
   "cell_type": "code",
   "execution_count": null,
   "metadata": {},
   "outputs": [],
   "source": []
  },
  {
   "cell_type": "markdown",
   "metadata": {
    "id": "u4uBUcQKlrTE"
   },
   "source": [
    "## 5. Complete the following code to find the minimum of 3 number using conditional statements. Output should be as displayed."
   ]
  },
  {
   "cell_type": "code",
   "execution_count": 65,
   "metadata": {
    "id": "XdZwrZjIlrTF"
   },
   "outputs": [
    {
     "name": "stdout",
     "output_type": "stream",
     "text": [
      "Enter three numbers followed by comma: 4,8,1\n",
      "\n",
      "Following are the numbers you entered:\n",
      "\n",
      "First number : 4\n",
      "Second number : 8\n",
      "Third number : 1\n",
      "\n",
      "c with value 1 is the smallest number!\n"
     ]
    }
   ],
   "source": [
    "a,b,c = input(\"Enter three numbers followed by comma: \").split(\",\")\n",
    "\n",
    "print(\"\\nFollowing are the numbers you entered:\\n\")\n",
    "print(\"First number :\",a)\n",
    "print(\"Second number :\",b)\n",
    "print(\"Third number :\",c)\n",
    "\n",
    "def minofnum():\n",
    "    \n",
    "    if a == b == c:\n",
    "        print(\"Entered numbers are equal!!!\") \n",
    "    \n",
    "    elif min(a,b,c) == a:\n",
    "        print(\"\\na with value {} is the smallest number!\".format(a))\n",
    "        \n",
    "    elif min(a,b,c) == b:\n",
    "        print(\"\\nb with value {} is the smallest number!\".format(b))\n",
    "\n",
    "    else:\n",
    "        print(\"\\nc with value {} is the smallest number!\".format(c))\n",
    "    \n",
    "minofnum()"
   ]
  },
  {
   "cell_type": "code",
   "execution_count": null,
   "metadata": {},
   "outputs": [],
   "source": []
  },
  {
   "cell_type": "code",
   "execution_count": null,
   "metadata": {},
   "outputs": [],
   "source": []
  },
  {
   "cell_type": "markdown",
   "metadata": {
    "id": "aR_CnToWlrTG"
   },
   "source": [
    "## 6. Write a program to print star pyramind. The number of rows should be taken as input from the user."
   ]
  },
  {
   "cell_type": "code",
   "execution_count": 103,
   "metadata": {},
   "outputs": [
    {
     "name": "stdout",
     "output_type": "stream",
     "text": [
      "Enter number of rows: \n",
      "4\n",
      "      * \n",
      "    * * * \n",
      "  * * * * * \n",
      "* * * * * * * \n"
     ]
    }
   ],
   "source": [
    "def pyramid_pattern():\n",
    "    \n",
    "    row = int(input(\"Enter number of rows: \\n\"))\n",
    "    \n",
    "    count = 0\n",
    "    \n",
    "    for i in range(1, row+1):\n",
    "        for gap in range(1, (row-i)+1):\n",
    "            print(end=\"  \")\n",
    "   \n",
    "        while count!=(2*i-1):\n",
    "            print(\"* \", end=\"\")\n",
    "            count += 1\n",
    "   \n",
    "        count = 0\n",
    "        print()\n",
    "    \n",
    "pyramid_pattern()"
   ]
  },
  {
   "cell_type": "code",
   "execution_count": 2,
   "metadata": {
    "id": "M37A-buplrTG"
   },
   "outputs": [
    {
     "name": "stdout",
     "output_type": "stream",
     "text": [
      "Enter the number of rows 5\n",
      "      *\n",
      "     ***\n",
      "    *****\n",
      "   *******\n",
      "  *********\n"
     ]
    }
   ],
   "source": [
    "#alternative code by Navaneeth\n",
    "n=int(input('Enter the number of rows '))\n",
    "for i in range(0,n):\n",
    "    print(' '*(n-i),'*'*(2*i+1))\n"
   ]
  },
  {
   "cell_type": "code",
   "execution_count": null,
   "metadata": {},
   "outputs": [],
   "source": []
  },
  {
   "cell_type": "code",
   "execution_count": null,
   "metadata": {},
   "outputs": [],
   "source": []
  },
  {
   "cell_type": "markdown",
   "metadata": {
    "id": "tlY6aFWBlrTH"
   },
   "source": [
    "## 7. Complete the following code to convert hour into seconds. Output should be as displayed"
   ]
  },
  {
   "cell_type": "code",
   "execution_count": 47,
   "metadata": {
    "id": "YOZQFk7FlrTH"
   },
   "outputs": [
    {
     "name": "stdout",
     "output_type": "stream",
     "text": [
      "Enter time in hours: 4\n",
      "\n",
      "\n",
      "4.0 Hours equals 240.0 Seconds\n"
     ]
    }
   ],
   "source": [
    "def to_seconds(t):\n",
    "    sec = t*60\n",
    "    return sec\n",
    "\n",
    "t = float(input(\"Enter time in hours: \"))\n",
    "print(\"\\n\")\n",
    "print(t ,\"Hours equals\" ,to_seconds(t) ,\"Seconds\")"
   ]
  },
  {
   "cell_type": "code",
   "execution_count": null,
   "metadata": {},
   "outputs": [],
   "source": []
  },
  {
   "cell_type": "code",
   "execution_count": null,
   "metadata": {},
   "outputs": [],
   "source": []
  },
  {
   "cell_type": "markdown",
   "metadata": {
    "id": "CnYorNiLlrTI"
   },
   "source": [
    "## 8. Write a program to print multiplication table as below"
   ]
  },
  {
   "cell_type": "code",
   "execution_count": 38,
   "metadata": {
    "id": "dPQqDPuDlrTI"
   },
   "outputs": [
    {
     "name": "stdout",
     "output_type": "stream",
     "text": [
      "Enter the number: 9\n",
      "\n",
      "Multiplication table till 10 for the number 9 is:\n",
      "\n",
      "9 x 1 is 9\n",
      "9 x 2 is 18\n",
      "9 x 3 is 27\n",
      "9 x 4 is 36\n",
      "9 x 5 is 45\n",
      "9 x 6 is 54\n",
      "9 x 7 is 63\n",
      "9 x 8 is 72\n",
      "9 x 9 is 81\n",
      "9 x 10 is 90\n"
     ]
    }
   ],
   "source": [
    "def mult():    \n",
    "    for i in range(1,11):\n",
    "        print(n,\"x\",i ,\"is\",n*i)\n",
    "\n",
    "n = int(input(\"Enter the number: \"))\n",
    "print(\"\\nMultiplication table till 10 for the number {} is:\\n\".format(n))\n",
    "mult()\n"
   ]
  },
  {
   "cell_type": "code",
   "execution_count": null,
   "metadata": {},
   "outputs": [],
   "source": []
  },
  {
   "cell_type": "code",
   "execution_count": null,
   "metadata": {},
   "outputs": [],
   "source": []
  },
  {
   "cell_type": "markdown",
   "metadata": {
    "id": "Fiaez8iblrTI"
   },
   "source": [
    "## 9. Write a program to take your 5 favorite food as list and print each as 'I like Biriyani'"
   ]
  },
  {
   "cell_type": "code",
   "execution_count": 58,
   "metadata": {
    "id": "39W1zFX7lrTJ"
   },
   "outputs": [
    {
     "name": "stdout",
     "output_type": "stream",
     "text": [
      "Enter you favorite food: biryani\n",
      "Enter you favorite food: noodles\n",
      "Enter you favorite food: puttu\n",
      "Enter you favorite food: masala dosa\n",
      "Enter you favorite food: ghee rice\n",
      "\n",
      "\n",
      "I like Biryani.\n",
      "I like Noodles.\n",
      "I like Puttu.\n",
      "I like Masala Dosa.\n",
      "I like Ghee Rice.\n"
     ]
    }
   ],
   "source": [
    "food_list = []\n",
    "\n",
    "def foodlist():\n",
    "    for i in range(5):\n",
    "        food = input(\"Enter you favorite food: \")\n",
    "        food_list.append(food)\n",
    "        \n",
    "    return food_list\n",
    "\n",
    "fav_food = foodlist()\n",
    "print(\"\\n\")\n",
    "for item in fav_food:\n",
    "    print(\"I like {}.\".format(item.title()))"
   ]
  },
  {
   "cell_type": "code",
   "execution_count": null,
   "metadata": {},
   "outputs": [],
   "source": []
  },
  {
   "cell_type": "code",
   "execution_count": null,
   "metadata": {},
   "outputs": [],
   "source": []
  },
  {
   "cell_type": "markdown",
   "metadata": {
    "id": "3vlcDNNEP7d_"
   },
   "source": [
    "## 10. Find error(s) in the following code(if any) and rewrite code.\n",
    "\n"
   ]
  },
  {
   "cell_type": "code",
   "execution_count": 60,
   "metadata": {},
   "outputs": [
    {
     "ename": "SyntaxError",
     "evalue": "invalid character in identifier (<ipython-input-60-d44f7b9db0c7>, line 2)",
     "output_type": "error",
     "traceback": [
      "\u001b[1;36m  File \u001b[1;32m\"<ipython-input-60-d44f7b9db0c7>\"\u001b[1;36m, line \u001b[1;32m2\u001b[0m\n\u001b[1;33m    x= int(“Enter value of x:”)\u001b[0m\n\u001b[1;37m                ^\u001b[0m\n\u001b[1;31mSyntaxError\u001b[0m\u001b[1;31m:\u001b[0m invalid character in identifier\n"
     ]
    }
   ],
   "source": [
    "#erroneous code \n",
    "x= int(“Enter value of x:”)\n",
    "for in range [0,10]:\n",
    "     if x=y\n",
    "          print(\"They are equal\")\n",
    "     else:\n",
    "         Print( \"They are unequal\")"
   ]
  },
  {
   "cell_type": "code",
   "execution_count": 61,
   "metadata": {
    "id": "coREkcY3P9sG"
   },
   "outputs": [
    {
     "name": "stdout",
     "output_type": "stream",
     "text": [
      "Enter value of x:8\n",
      "\n",
      "X and Y are unequal\n",
      "\n",
      "X and Y are unequal\n",
      "\n",
      "X and Y are unequal\n",
      "\n",
      "X and Y are unequal\n",
      "\n",
      "X and Y are unequal\n",
      "\n",
      "X and Y are unequal\n",
      "\n",
      "X and Y are unequal\n",
      "\n",
      "X and Y are unequal\n",
      "\n",
      "X and Y are equal\n",
      "\n",
      "X and Y are unequal\n"
     ]
    }
   ],
   "source": [
    "#corrected code\n",
    "\n",
    "x= int(input(\"Enter value of x:\"))\n",
    "\n",
    "for y in range(0,10):\n",
    "    if x==y:\n",
    "        print(\"\\nX and Y are equal\")\n",
    "    \n",
    "    else:\n",
    "        print(\"\\nX and Y are unequal\")"
   ]
  },
  {
   "cell_type": "code",
   "execution_count": null,
   "metadata": {},
   "outputs": [],
   "source": []
  },
  {
   "cell_type": "code",
   "execution_count": 3,
   "metadata": {},
   "outputs": [],
   "source": [
    "#Submitted by DSA_B3 [Group12]\n",
    "#GroupMembers: Sujith Narayanan, Sidharth S, Akshaya V, Shiffa Saleem, Navaneeth R"
   ]
  },
  {
   "cell_type": "markdown",
   "metadata": {},
   "source": [
    "<center><h2> - END - </h2></center>"
   ]
  }
 ],
 "metadata": {
  "colab": {
   "collapsed_sections": [],
   "name": "Q&A activity student file.ipynb",
   "provenance": []
  },
  "kernelspec": {
   "display_name": "Python 3",
   "language": "python",
   "name": "python3"
  },
  "language_info": {
   "codemirror_mode": {
    "name": "ipython",
    "version": 3
   },
   "file_extension": ".py",
   "mimetype": "text/x-python",
   "name": "python",
   "nbconvert_exporter": "python",
   "pygments_lexer": "ipython3",
   "version": "3.8.3"
  }
 },
 "nbformat": 4,
 "nbformat_minor": 1
}
